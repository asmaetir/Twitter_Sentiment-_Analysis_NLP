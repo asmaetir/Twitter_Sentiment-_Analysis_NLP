{
 "cells": [
  {
   "cell_type": "code",
   "execution_count": 126,
   "id": "7e6a617d",
   "metadata": {},
   "outputs": [],
   "source": [
    "import pandas as pd\n",
    "import numpy as np\n",
    "import re\n",
    "import matplotlib.pyplot as plt\n",
    "import seaborn as sns\n",
    "import nltk\n",
    "import warnings \n",
    "warnings.filterwarnings(\"ignore\", category=DeprecationWarning)"
   ]
  },
  {
   "cell_type": "code",
   "execution_count": 127,
   "id": "72ac026b",
   "metadata": {},
   "outputs": [],
   "source": [
    "train_df = pd.read_csv(\"train_tw.csv\")\n",
    "test_df = pd.read_csv(\"test_tw.csv\")"
   ]
  },
  {
   "cell_type": "code",
   "execution_count": 128,
   "id": "e170ab4a",
   "metadata": {},
   "outputs": [
    {
     "data": {
      "text/html": [
       "<div>\n",
       "<style scoped>\n",
       "    .dataframe tbody tr th:only-of-type {\n",
       "        vertical-align: middle;\n",
       "    }\n",
       "\n",
       "    .dataframe tbody tr th {\n",
       "        vertical-align: top;\n",
       "    }\n",
       "\n",
       "    .dataframe thead th {\n",
       "        text-align: right;\n",
       "    }\n",
       "</style>\n",
       "<table border=\"1\" class=\"dataframe\">\n",
       "  <thead>\n",
       "    <tr style=\"text-align: right;\">\n",
       "      <th></th>\n",
       "      <th>id</th>\n",
       "      <th>label</th>\n",
       "      <th>tweet</th>\n",
       "    </tr>\n",
       "  </thead>\n",
       "  <tbody>\n",
       "    <tr>\n",
       "      <th>0</th>\n",
       "      <td>1</td>\n",
       "      <td>0</td>\n",
       "      <td>@user when a father is dysfunctional and is s...</td>\n",
       "    </tr>\n",
       "    <tr>\n",
       "      <th>1</th>\n",
       "      <td>2</td>\n",
       "      <td>0</td>\n",
       "      <td>@user @user thanks for #lyft credit i can't us...</td>\n",
       "    </tr>\n",
       "    <tr>\n",
       "      <th>2</th>\n",
       "      <td>3</td>\n",
       "      <td>0</td>\n",
       "      <td>bihday your majesty</td>\n",
       "    </tr>\n",
       "    <tr>\n",
       "      <th>3</th>\n",
       "      <td>4</td>\n",
       "      <td>0</td>\n",
       "      <td>#model   i love u take with u all the time in ...</td>\n",
       "    </tr>\n",
       "    <tr>\n",
       "      <th>4</th>\n",
       "      <td>5</td>\n",
       "      <td>0</td>\n",
       "      <td>factsguide: society now    #motivation</td>\n",
       "    </tr>\n",
       "    <tr>\n",
       "      <th>5</th>\n",
       "      <td>6</td>\n",
       "      <td>0</td>\n",
       "      <td>[2/2] huge fan fare and big talking before the...</td>\n",
       "    </tr>\n",
       "    <tr>\n",
       "      <th>6</th>\n",
       "      <td>7</td>\n",
       "      <td>0</td>\n",
       "      <td>@user camping tomorrow @user @user @user @use...</td>\n",
       "    </tr>\n",
       "    <tr>\n",
       "      <th>7</th>\n",
       "      <td>8</td>\n",
       "      <td>0</td>\n",
       "      <td>the next school year is the year for exams.ð...</td>\n",
       "    </tr>\n",
       "    <tr>\n",
       "      <th>8</th>\n",
       "      <td>9</td>\n",
       "      <td>0</td>\n",
       "      <td>we won!!! love the land!!! #allin #cavs #champ...</td>\n",
       "    </tr>\n",
       "    <tr>\n",
       "      <th>9</th>\n",
       "      <td>10</td>\n",
       "      <td>0</td>\n",
       "      <td>@user @user welcome here !  i'm   it's so #gr...</td>\n",
       "    </tr>\n",
       "  </tbody>\n",
       "</table>\n",
       "</div>"
      ],
      "text/plain": [
       "   id  label                                              tweet\n",
       "0   1      0   @user when a father is dysfunctional and is s...\n",
       "1   2      0  @user @user thanks for #lyft credit i can't us...\n",
       "2   3      0                                bihday your majesty\n",
       "3   4      0  #model   i love u take with u all the time in ...\n",
       "4   5      0             factsguide: society now    #motivation\n",
       "5   6      0  [2/2] huge fan fare and big talking before the...\n",
       "6   7      0   @user camping tomorrow @user @user @user @use...\n",
       "7   8      0  the next school year is the year for exams.ð...\n",
       "8   9      0  we won!!! love the land!!! #allin #cavs #champ...\n",
       "9  10      0   @user @user welcome here !  i'm   it's so #gr..."
      ]
     },
     "execution_count": 128,
     "metadata": {},
     "output_type": "execute_result"
    }
   ],
   "source": [
    "train_df.head(10)"
   ]
  },
  {
   "cell_type": "code",
   "execution_count": 129,
   "id": "cca5a195",
   "metadata": {},
   "outputs": [
    {
     "name": "stdout",
     "output_type": "stream",
     "text": [
      "Training Data \n",
      "<class 'pandas.core.frame.DataFrame'>\n",
      "RangeIndex: 31962 entries, 0 to 31961\n",
      "Data columns (total 3 columns):\n",
      " #   Column  Non-Null Count  Dtype \n",
      "---  ------  --------------  ----- \n",
      " 0   id      31962 non-null  int64 \n",
      " 1   label   31962 non-null  int64 \n",
      " 2   tweet   31962 non-null  object\n",
      "dtypes: int64(2), object(1)\n",
      "memory usage: 749.2+ KB\n",
      "None\n",
      "Test Data \n",
      "<class 'pandas.core.frame.DataFrame'>\n",
      "RangeIndex: 17197 entries, 0 to 17196\n",
      "Data columns (total 2 columns):\n",
      " #   Column  Non-Null Count  Dtype \n",
      "---  ------  --------------  ----- \n",
      " 0   id      17197 non-null  int64 \n",
      " 1   tweet   17197 non-null  object\n",
      "dtypes: int64(1), object(1)\n",
      "memory usage: 268.8+ KB\n",
      "None\n"
     ]
    }
   ],
   "source": [
    "print(\"Training Data \")\n",
    "print(train_df.info())\n",
    "print(\"Test Data \")\n",
    "print(test_df.info())"
   ]
  },
  {
   "cell_type": "code",
   "execution_count": 130,
   "id": "8308a8b0",
   "metadata": {},
   "outputs": [],
   "source": [
    "import re\n",
    "\n",
    "def remove_pattern(tweet, pattern):\n",
    "    r = re.findall(pattern, tweet)\n",
    "    for i in r:\n",
    "        tweet = re.sub(i, '', tweet)\n",
    "    return tweet"
   ]
  },
  {
   "cell_type": "code",
   "execution_count": 131,
   "id": "6fe0bf57",
   "metadata": {},
   "outputs": [],
   "source": [
    "pattern = r\"@[\\w]*\"\n",
    "remove_pattern = np.vectorize(remove_pattern)\n"
   ]
  },
  {
   "cell_type": "code",
   "execution_count": 132,
   "id": "42c80661",
   "metadata": {},
   "outputs": [],
   "source": [
    "train_df['tweet'] = train_df['tweet'].str.lower()\n",
    "test_df['tweet'] = test_df['tweet'].str.lower()\n"
   ]
  },
  {
   "cell_type": "code",
   "execution_count": 133,
   "id": "0b551274",
   "metadata": {},
   "outputs": [],
   "source": [
    "train_df['tweet'] = remove_pattern(train_df['tweet'],pattern)\n",
    "test_df['tweet'] = remove_pattern(test_df['tweet'], pattern)\n"
   ]
  },
  {
   "cell_type": "code",
   "execution_count": 134,
   "id": "0538e23e",
   "metadata": {},
   "outputs": [],
   "source": [
    "\n",
    "def replace_special_characters(text):\n",
    "    pattern = r\"[^a-zA-Z]\"\n",
    "    \n",
    "    cleaned_text = re.sub(pattern, ' ', text)\n",
    "    \n",
    "    return cleaned_text\n",
    "\n",
    "train_df['tweet'] = train_df['tweet'].apply(replace_special_characters)\n",
    "test_df['tweet'] = test_df['tweet'].apply(replace_special_characters)"
   ]
  },
  {
   "cell_type": "code",
   "execution_count": 135,
   "id": "59063ed8",
   "metadata": {
    "scrolled": true
   },
   "outputs": [
    {
     "data": {
      "text/html": [
       "<div>\n",
       "<style scoped>\n",
       "    .dataframe tbody tr th:only-of-type {\n",
       "        vertical-align: middle;\n",
       "    }\n",
       "\n",
       "    .dataframe tbody tr th {\n",
       "        vertical-align: top;\n",
       "    }\n",
       "\n",
       "    .dataframe thead th {\n",
       "        text-align: right;\n",
       "    }\n",
       "</style>\n",
       "<table border=\"1\" class=\"dataframe\">\n",
       "  <thead>\n",
       "    <tr style=\"text-align: right;\">\n",
       "      <th></th>\n",
       "      <th>id</th>\n",
       "      <th>label</th>\n",
       "      <th>tweet</th>\n",
       "    </tr>\n",
       "  </thead>\n",
       "  <tbody>\n",
       "    <tr>\n",
       "      <th>0</th>\n",
       "      <td>1</td>\n",
       "      <td>0</td>\n",
       "      <td>when a father is dysfunctional and is so sel...</td>\n",
       "    </tr>\n",
       "    <tr>\n",
       "      <th>1</th>\n",
       "      <td>2</td>\n",
       "      <td>0</td>\n",
       "      <td>thanks for  lyft credit i can t use cause th...</td>\n",
       "    </tr>\n",
       "    <tr>\n",
       "      <th>2</th>\n",
       "      <td>3</td>\n",
       "      <td>0</td>\n",
       "      <td>bihday your majesty</td>\n",
       "    </tr>\n",
       "    <tr>\n",
       "      <th>3</th>\n",
       "      <td>4</td>\n",
       "      <td>0</td>\n",
       "      <td>model   i love u take with u all the time in ...</td>\n",
       "    </tr>\n",
       "    <tr>\n",
       "      <th>4</th>\n",
       "      <td>5</td>\n",
       "      <td>0</td>\n",
       "      <td>factsguide  society now     motivation</td>\n",
       "    </tr>\n",
       "    <tr>\n",
       "      <th>5</th>\n",
       "      <td>6</td>\n",
       "      <td>0</td>\n",
       "      <td>huge fan fare and big talking before the...</td>\n",
       "    </tr>\n",
       "    <tr>\n",
       "      <th>6</th>\n",
       "      <td>7</td>\n",
       "      <td>0</td>\n",
       "      <td>camping tomorrow        danny</td>\n",
       "    </tr>\n",
       "    <tr>\n",
       "      <th>7</th>\n",
       "      <td>8</td>\n",
       "      <td>0</td>\n",
       "      <td>the next school year is the year for exams    ...</td>\n",
       "    </tr>\n",
       "    <tr>\n",
       "      <th>8</th>\n",
       "      <td>9</td>\n",
       "      <td>0</td>\n",
       "      <td>we won    love the land     allin  cavs  champ...</td>\n",
       "    </tr>\n",
       "    <tr>\n",
       "      <th>9</th>\n",
       "      <td>10</td>\n",
       "      <td>0</td>\n",
       "      <td>welcome here    i m   it s so  gr</td>\n",
       "    </tr>\n",
       "  </tbody>\n",
       "</table>\n",
       "</div>"
      ],
      "text/plain": [
       "   id  label                                              tweet\n",
       "0   1      0    when a father is dysfunctional and is so sel...\n",
       "1   2      0    thanks for  lyft credit i can t use cause th...\n",
       "2   3      0                                bihday your majesty\n",
       "3   4      0   model   i love u take with u all the time in ...\n",
       "4   5      0             factsguide  society now     motivation\n",
       "5   6      0        huge fan fare and big talking before the...\n",
       "6   7      0                   camping tomorrow        danny   \n",
       "7   8      0  the next school year is the year for exams    ...\n",
       "8   9      0  we won    love the land     allin  cavs  champ...\n",
       "9  10      0              welcome here    i m   it s so  gr    "
      ]
     },
     "execution_count": 135,
     "metadata": {},
     "output_type": "execute_result"
    }
   ],
   "source": [
    "train_df.head(10)"
   ]
  },
  {
   "cell_type": "code",
   "execution_count": 136,
   "id": "e3967ab7",
   "metadata": {},
   "outputs": [],
   "source": [
    "from nltk.corpus import stopwords\n",
    "from nltk.tokenize import word_tokenize"
   ]
  },
  {
   "cell_type": "code",
   "execution_count": 140,
   "id": "2d5cdbb0",
   "metadata": {},
   "outputs": [],
   "source": [
    "train_tokens = [word_tokenize(tweet) for tweet in train_df['tweet']]\n",
    "test_tokens = [word_tokenize(tweet) for tweet in test_df['tweet']]"
   ]
  },
  {
   "cell_type": "code",
   "execution_count": 141,
   "id": "bc6b635a",
   "metadata": {},
   "outputs": [],
   "source": [
    "\n",
    "train_df['tweet_token'] = train_df['tweet'].apply(word_tokenize)\n",
    "train_df['preprocessed_text'] = train_df['tweet_token'].apply(lambda x: [word for word in x if not word in stop_words])\n",
    "\n",
    "test_df['tweet_token'] = test_df['tweet'].apply(word_tokenize)\n",
    "test_df['preprocessed_text'] = test_df['tweet_token'].apply(lambda x: [word for word in x if not word in stop_words])\n"
   ]
  },
  {
   "cell_type": "code",
   "execution_count": 142,
   "id": "c3f76e41",
   "metadata": {},
   "outputs": [],
   "source": [
    "\n",
    "from nltk.stem import PorterStemmer\n",
    "\n",
    "stemmer = PorterStemmer()\n",
    "\n",
    "train_stemmed_tokens = [[stemmer.stem(token) for token in tweet_tokens] for tweet_tokens in train_tokens]\n",
    "\n",
    "test_stemmed_tokens = [[stemmer.stem(token) for token in tweet_tokens] for tweet_tokens in test_tokens]\n"
   ]
  },
  {
   "cell_type": "code",
   "execution_count": 143,
   "id": "8df7ee92",
   "metadata": {},
   "outputs": [],
   "source": [
    "from nltk.stem import WordNetLemmatizer\n",
    "\n",
    "lemmatizer = WordNetLemmatizer()\n",
    "\n",
    "train_lemmatized_tokens = [[lemmatizer.lemmatize(token) for token in tweet_tokens] for tweet_tokens in train_tokens]\n",
    "test_lemmatized_tokens = [[lemmatizer.lemmatize(token) for token in tweet_tokens] for tweet_tokens in test_tokens]\n"
   ]
  },
  {
   "cell_type": "code",
   "execution_count": 144,
   "id": "39026199",
   "metadata": {},
   "outputs": [],
   "source": [
    "combined_df = pd.concat([train_df, test_df], axis=0)\n",
    "combined_df['tweet_token'] = combined_df['tweet'].apply(word_tokenize)\n",
    "combined_df['tweet_token_filtered'] = combined_df['tweet_token'].apply(lambda x: [word for word in x if not word in stop_words])\n",
    "combined_df['tweet_stemmed'] = combined_df['tweet_token_filtered'].apply(lambda x: [stemmer.stem(token) for token in x])\n"
   ]
  },
  {
   "cell_type": "code",
   "execution_count": 145,
   "id": "69776634",
   "metadata": {},
   "outputs": [],
   "source": [
    "\n",
    "all_words = ' '.join([text for tweet in combined_df['tweet_stemmed'] for text in tweet])\n",
    "normal_words = ' '.join(combined_df.loc[combined_df['label'] == 0, 'tweet_stemmed'].apply(lambda tweet: ' '.join(tweet)))\n",
    "hate_words = ' '.join(combined_df.loc[combined_df['label'] == 1, 'tweet_stemmed'].apply(lambda tweet: ' '.join(tweet)))\n",
    "\n"
   ]
  },
  {
   "cell_type": "code",
   "execution_count": 146,
   "id": "4d9de4f6",
   "metadata": {},
   "outputs": [],
   "source": [
    "from nltk.stem import WordNetLemmatizer\n",
    "\n",
    "lemmatizer = WordNetLemmatizer()\n",
    "\n",
    "combined_df['tweet_lemmatized'] = combined_df['tweet_token_filtered'].apply(lambda x: [lemmatizer.lemmatize(token) for token in x])\n",
    "\n",
    "all_words = ' '.join([text for tweet in combined_df['tweet_lemmatized'] for text in tweet])\n",
    "normal_words = ' '.join(combined_df.loc[combined_df['label'] == 0, 'tweet_lemmatized'].apply(lambda tweet: ' '.join(tweet)))\n",
    "negative_words = ' '.join(combined_df.loc[combined_df['label'] == 1, 'tweet_lemmatized'].apply(lambda tweet: ' '.join(tweet)))\n",
    "\n"
   ]
  },
  {
   "cell_type": "code",
   "execution_count": 147,
   "id": "6c07f506",
   "metadata": {},
   "outputs": [],
   "source": [
    "from sklearn.feature_extraction.text import CountVectorizer, TfidfVectorizer\n",
    "vectorizer = TfidfVectorizer()\n",
    "X = vectorizer.fit_transform(train_df['tweet'])\n",
    "y = train_df['label']"
   ]
  },
  {
   "cell_type": "code",
   "execution_count": 148,
   "id": "446c0b05",
   "metadata": {},
   "outputs": [],
   "source": [
    "from sklearn.model_selection import train_test_split\n",
    "X_train, X_val, y_train, y_val = train_test_split(X, y, test_size=0.2, random_state=42)\n"
   ]
  },
  {
   "cell_type": "code",
   "execution_count": 149,
   "id": "ec387c44",
   "metadata": {},
   "outputs": [
    {
     "name": "stdout",
     "output_type": "stream",
     "text": [
      "Validation Accuracy: 0.9582355701548568\n"
     ]
    }
   ],
   "source": [
    "from sklearn.svm import SVC\n",
    "\n",
    "model = SVC(kernel='linear')\n",
    "model.fit(X_train, y_train)\n",
    "\n",
    "accuracy = model.score(X_val, y_val)\n",
    "print(\"Validation Accuracy:\", accuracy)"
   ]
  },
  {
   "cell_type": "code",
   "execution_count": 150,
   "id": "ae654505",
   "metadata": {},
   "outputs": [
    {
     "name": "stdout",
     "output_type": "stream",
     "text": [
      "f1 score : 0.6147186147186147\n",
      "Classification Report:\n",
      "              precision    recall  f1-score   support\n",
      "\n",
      "           0       0.96      1.00      0.98      5937\n",
      "           1       0.90      0.47      0.61       456\n",
      "\n",
      "    accuracy                           0.96      6393\n",
      "   macro avg       0.93      0.73      0.80      6393\n",
      "weighted avg       0.96      0.96      0.95      6393\n",
      "\n"
     ]
    }
   ],
   "source": [
    "y_pred = model.predict(X_val)\n",
    "\n",
    "print(\"f1 score :\", f1_score(y_val, y_pred))\n",
    "report = classification_report(y_val, y_pred)\n",
    "print(\"Classification Report:\")\n",
    "print(report)\n"
   ]
  },
  {
   "cell_type": "code",
   "execution_count": null,
   "id": "da478d6a",
   "metadata": {},
   "outputs": [],
   "source": []
  }
 ],
 "metadata": {
  "kernelspec": {
   "display_name": "Python 3 (ipykernel)",
   "language": "python",
   "name": "python3"
  },
  "language_info": {
   "codemirror_mode": {
    "name": "ipython",
    "version": 3
   },
   "file_extension": ".py",
   "mimetype": "text/x-python",
   "name": "python",
   "nbconvert_exporter": "python",
   "pygments_lexer": "ipython3",
   "version": "3.10.9"
  }
 },
 "nbformat": 4,
 "nbformat_minor": 5
}
